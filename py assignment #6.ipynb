{
 "cells": [
  {
   "cell_type": "markdown",
   "metadata": {},
   "source": [
    "# Question 1\n",
    "\n",
    "\n",
    "## Define Object Oriented Programming Language?\n",
    "\n",
    "Answer: Object-oriented programming (OOP) refers to a type of computer programming (software design) in which programmers define the data type of a data structure, and also the types of operations (functions) that can be applied to the data structure."
   ]
  },
  {
   "cell_type": "markdown",
   "metadata": {},
   "source": [
    "# Question 2\n",
    "\n",
    "## List down the Benefits of OOP?\n",
    "\n",
    "1. Simplicity: software objects model real world objects, so the complexity is reduced and the program structure is very clear \n",
    "2. Modularity: each object forms a separate entity whose internal workings are decoupled from other parts of the system; \n",
    "3. Modifiability: it is easy to make minor changes in the data representation or the procedures in an OO program. Changes inside a class do not affect any other part of a program, since the only public interface that the external world has to a class is through the use of methods; \n",
    "4. Extensibility: adding new features or responding to changing operating environments can be solved by introducing a few new objects and modifying some existing ones; \n",
    "5. Maintainability: objects can be maintained separately, making locating and fixing problems easier; \n",
    "6. Re-usability: objects can be reused in different programs"
   ]
  },
  {
   "cell_type": "markdown",
   "metadata": {},
   "source": [
    "# Question 3\n",
    "\n",
    "\n",
    "## Differentiate between function and method?\n",
    "\n",
    "Answer: A function returns a value, but a procedure does not. A method is similar to a function, but is internal to part of a class. The term method is used almost exclusively in object-oriented programming. A function is something that takes a bunch of inputs and returns one or more values."
   ]
  },
  {
   "cell_type": "markdown",
   "metadata": {},
   "source": [
    "# Question 4\n",
    "\n",
    "## Define the following terms:\n",
    "\n",
    "### Class: \n",
    "            In object-oriented programming, a class is an extensible program-code-template for creating objects, providing initial values for state and implementations of behavior\n",
    "\n",
    "### Object:\n",
    "             In object-oriented programming (OOP), objects are the things you think about first in designing a program and they are also the units of code that are eventually derived from the process. In between, each object is made into a generic class of object and even more generic classes are defined so that objects can share models and reuse the class definitions in their code. Each object is an instance of a particular class or subclass with the class's own methods or procedures and data variables. An object is what actually runs in the computer.\n",
    "\n",
    "### Attribute:\n",
    "                An attribute is a property or characteristic. Color, for example, is an attribute of your hair. In using or programming computers, an attribute is a changeable property or characteristic of some component of a program that can be set to different values. \n",
    "\n",
    "### Behavior:\n",
    "                The term \"behavior\" refers to how objects interact with each other , and it is defined by the operations an object can perform."
   ]
  },
  {
   "cell_type": "code",
   "execution_count": 1,
   "metadata": {},
   "outputs": [
    {
     "name": "stdout",
     "output_type": "stream",
     "text": [
      "2019\n",
      "white\n",
      "Corolla\n",
      "1NZ-FE Old Engine\n",
      "2NZ-FAE New Engine\n",
      "4\n",
      "\n",
      "\n",
      "2017\n",
      "black\n",
      "Civic\n",
      "FK2\n",
      "4 Old Seats\n",
      "2 New seats\n",
      "\n",
      "\n",
      "2015\n",
      "blue Old Color\n",
      "Navy Blue New Color\n",
      "Ciaz\n",
      "L 14\n",
      "4\n",
      "\n",
      "\n",
      "2016\n",
      "green\n",
      "Cultus\n",
      "K10C\n",
      "4\n",
      "\n",
      "\n",
      "2007\n",
      "red\n",
      "Cuore\n",
      "L275\n",
      "4\n"
     ]
    }
   ],
   "source": [
    "class car():\n",
    "    def __init__(self,model,color,name,engine,seats):\n",
    "        self.model= model\n",
    "        self.color= color\n",
    "        self.name = name\n",
    "        self.engine = engine\n",
    "        self.seats = seats\n",
    "\n",
    "    def Upgrade_Engine(self,newEngine):\n",
    "        self.engine = newEngine\n",
    "    def new_Color(self,newColor):\n",
    "        self.color = newColor\n",
    "    def seats_Removed_to(self,numberofseats):\n",
    "        self.seats= numberofseats\n",
    "\n",
    "car1 = car(2019,'white','Corolla','1NZ-FE',4)\n",
    "\n",
    "print(car1.model)\n",
    "print(car1.color)\n",
    "print(car1.name)\n",
    "print(car1.engine,'Old Engine')\n",
    "car1.Upgrade_Engine('2NZ-FAE')\n",
    "print(car1.engine,'New Engine')\n",
    "print(car1.seats)\n",
    "print('\\n')\n",
    "\n",
    "car2 = car(2017,'black','Civic','FK2',4)\n",
    "\n",
    "print(car2.model)\n",
    "print(car2.color)\n",
    "print(car2.name)\n",
    "print(car2.engine)\n",
    "print(car2.seats,'Old Seats')\n",
    "car2.seats_Removed_to(2)\n",
    "print(car2.seats,\"New seats\")\n",
    "print('\\n')\n",
    "\n",
    "car3 = car(2015,'blue','Ciaz','L 14',4)\n",
    "\n",
    "print(car3.model)\n",
    "print(car3.color,'Old Color')\n",
    "car3.new_Color('Navy Blue')\n",
    "print(car3.color,'New Color')\n",
    "print(car3.name)\n",
    "print(car3.engine)\n",
    "print(car3.seats)\n",
    "print('\\n')\n",
    "\n",
    "car4 = car(2016,'green','Cultus','K10C',4)\n",
    "\n",
    "print(car4.model)\n",
    "print(car4.color)\n",
    "print(car4.name)\n",
    "print(car4.engine)\n",
    "print(car4.seats)\n",
    "print('\\n')\n",
    "\n",
    "car5 = car(2007,'red','Cuore','L275',4)\n",
    "\n",
    "print(car5.model)\n",
    "print(car5.color)\n",
    "print(car5.name)\n",
    "print(car5.engine)\n",
    "print(car5.seats)\n"
   ]
  },
  {
   "cell_type": "code",
   "execution_count": null,
   "metadata": {},
   "outputs": [],
   "source": []
  }
 ],
 "metadata": {
  "kernelspec": {
   "display_name": "Python 3",
   "language": "python",
   "name": "python3"
  },
  "language_info": {
   "codemirror_mode": {
    "name": "ipython",
    "version": 3
   },
   "file_extension": ".py",
   "mimetype": "text/x-python",
   "name": "python",
   "nbconvert_exporter": "python",
   "pygments_lexer": "ipython3",
   "version": "3.7.4"
  }
 },
 "nbformat": 4,
 "nbformat_minor": 2
}
